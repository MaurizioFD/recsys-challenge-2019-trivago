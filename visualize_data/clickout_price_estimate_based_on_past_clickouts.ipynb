{
 "cells": [
  {
   "cell_type": "code",
   "execution_count": null,
   "metadata": {},
   "outputs": [],
   "source": [
    "import sys\n",
    "import os\n",
    "\n",
    "os.chdir(\"../\")"
   ]
  },
  {
   "cell_type": "code",
   "execution_count": 1,
   "metadata": {},
   "outputs": [],
   "source": [
    "import pandas as pd\n",
    "import matplotlib.pyplot as plt\n",
    "import numpy as np\n",
    "from matplotlib.ticker import PercentFormatter"
   ]
  },
  {
   "cell_type": "markdown",
   "metadata": {},
   "source": [
    "# Is a user that once selects the $n^{th}$ accomodation in price likely to select again the $n^{th}$ in the future?"
   ]
  },
  {
   "cell_type": "code",
   "execution_count": 2,
   "metadata": {},
   "outputs": [],
   "source": [
    "df = pd.read_csv('dataset/original/train.csv')\n",
    "df = df[df['action_type'] == 'clickout item']\n",
    "df = df[~df['reference'].isnull()]\n",
    "\n",
    "df_test = pd.read_csv('dataset/original/test.csv')\n",
    "df_test = df_test[df_test['action_type'] == 'clickout item']\n",
    "df_test = df_test[~df_test['reference'].isnull()]\n",
    "\n",
    "df = pd.concat([df, df_test], ignore_index=True)"
   ]
  },
  {
   "cell_type": "code",
   "execution_count": 6,
   "metadata": {},
   "outputs": [],
   "source": [
    "def func(x):\n",
    "    m = -1\n",
    "    mr = 0\n",
    "    var = 0\n",
    "    iters = 1\n",
    "    if len(x) > 1:\n",
    "        for idx, row in x.iterrows():\n",
    "            impression = list(map(int, row['impressions'].split('|')))\n",
    "            prices = list(map(int, row['prices'].split('|')))\n",
    "            clickout_item = int(row['reference'])\n",
    "            impression_prices = [[impression[i], prices[i]] for i in range(len(impression))]\n",
    "            impression_prices.sort(key=lambda e: int(e[1]))\n",
    "            impression = [e[0] for e in impression_prices]\n",
    "            if clickout_item in impression:\n",
    "                i = impression.index(clickout_item)\n",
    "                if m == -1:\n",
    "                    m = i\n",
    "                else:\n",
    "                    m += i\n",
    "                    mr = m/iters\n",
    "                    var += abs(mr - i)\n",
    "            iters += 1\n",
    "        var = var/len(x)\n",
    "        m = m/len(x)\n",
    "        d = {'mean cheap': [m], 'std cheap': [var], 'num of clickouts': [len(x)]}\n",
    "        return pd.DataFrame(data=d)"
   ]
  },
  {
   "cell_type": "code",
   "execution_count": 7,
   "metadata": {},
   "outputs": [],
   "source": [
    "grouped = df.groupby(['user_id']).apply(func)\n",
    "grouped_more_clickouts = grouped[grouped['num of clickouts'] > 1]"
   ]
  },
  {
   "cell_type": "markdown",
   "metadata": {},
   "source": [
    "### A user that picks on a previous clickout the $n^{th}$ cheapest accomodation is really likely to stick with it"
   ]
  },
  {
   "cell_type": "code",
   "execution_count": 8,
   "metadata": {},
   "outputs": [
    {
     "data": {
      "text/plain": [
       "1.8020275172577096"
      ]
     },
     "execution_count": 8,
     "metadata": {},
     "output_type": "execute_result"
    }
   ],
   "source": [
    "sum(grouped_more_clickouts['std cheap'].values)/len(grouped_more_clickouts)"
   ]
  },
  {
   "cell_type": "code",
   "execution_count": 9,
   "metadata": {
    "scrolled": true
   },
   "outputs": [
    {
     "data": {
      "text/plain": [
       "array([[<matplotlib.axes._subplots.AxesSubplot object at 0x7f2169e17748>]],\n",
       "      dtype=object)"
      ]
     },
     "execution_count": 9,
     "metadata": {},
     "output_type": "execute_result"
    },
    {
     "data": {
      "image/png": "[encoded data removed]",
      "text/plain": [
       "<Figure size 432x288 with 1 Axes>"
      ]
     },
     "metadata": {
      "needs_background": "light"
     },
     "output_type": "display_data"
    }
   ],
   "source": [
    "grouped_more_clickouts.hist(column = 'std cheap', bins = 40, weights = np.ones(len(grouped_more_clickouts))/len(grouped_more_clickouts))"
   ]
  },
  {
   "cell_type": "code",
   "execution_count": 10,
   "metadata": {},
   "outputs": [
    {
     "data": {
      "text/plain": [
       "array([[<matplotlib.axes._subplots.AxesSubplot object at 0x7f215eae3d68>]],\n",
       "      dtype=object)"
      ]
     },
     "execution_count": 10,
     "metadata": {},
     "output_type": "execute_result"
    },
    {
     "data": {
      "image/png": "[encoded data removed]",
      "text/plain": [
       "<Figure size 432x288 with 1 Axes>"
      ]
     },
     "metadata": {
      "needs_background": "light"
     },
     "output_type": "display_data"
    }
   ],
   "source": [
    "grouped_more_clickouts.hist(cumulative = True, column = 'std cheap', bins = 100, weights = np.ones(len(grouped_more_clickouts))/len(grouped_more_clickouts))"
   ]
  },
  {
   "cell_type": "markdown",
   "metadata": {},
   "source": [
    "# Does it make more sense to look to the std deviation of the real prices instead of looking to the std deviation of the price-wise position?"
   ]
  },
  {
   "cell_type": "code",
   "execution_count": 11,
   "metadata": {},
   "outputs": [],
   "source": [
    "def func1(x):\n",
    "    m = -1\n",
    "    mr = 0\n",
    "    var = 0\n",
    "    iters = 1\n",
    "    if len(x) > 1:\n",
    "        for idx, row in x.iterrows():\n",
    "            impression = list(map(int, row['impressions'].split('|')))\n",
    "            prices = list(map(int, row['prices'].split('|')))\n",
    "            clickout_item = int(row['reference'])\n",
    "            if clickout_item in impression:\n",
    "                i = prices[impression.index(clickout_item)]\n",
    "                if m == -1:\n",
    "                    m = i\n",
    "                else:\n",
    "                    m += i\n",
    "                    mr = m/iters\n",
    "                    var += abs(mr - i)\n",
    "            iters += 1\n",
    "        var = var/len(x)\n",
    "        m = m/len(x)\n",
    "        d = {'mean price': [m], 'std price': [var], 'num of clickouts': [len(x)]}\n",
    "        return pd.DataFrame(data=d)"
   ]
  },
  {
   "cell_type": "code",
   "execution_count": 12,
   "metadata": {
    "scrolled": true
   },
   "outputs": [],
   "source": [
    "grouped_price_more_clickouts = df.groupby(['user_id']).apply(func1)"
   ]
  },
  {
   "cell_type": "code",
   "execution_count": 13,
   "metadata": {},
   "outputs": [
    {
     "data": {
      "text/plain": [
       "14.505426219015927"
      ]
     },
     "execution_count": 13,
     "metadata": {},
     "output_type": "execute_result"
    }
   ],
   "source": [
    "sum(grouped_price_more_clickouts['std price'].values)/len(grouped_price_more_clickouts)"
   ]
  },
  {
   "cell_type": "code",
   "execution_count": 14,
   "metadata": {},
   "outputs": [
    {
     "data": {
      "text/plain": [
       "array([[<matplotlib.axes._subplots.AxesSubplot object at 0x7f2166687f28>]],\n",
       "      dtype=object)"
      ]
     },
     "execution_count": 14,
     "metadata": {},
     "output_type": "execute_result"
    },
    {
     "data": {
      "image/png": "[encoded data removed]",
      "text/plain": [
       "<Figure size 432x288 with 1 Axes>"
      ]
     },
     "metadata": {
      "needs_background": "light"
     },
     "output_type": "display_data"
    }
   ],
   "source": [
    "grouped_price_more_clickouts.hist(column = 'std price', bins = 40, range=[0, 50], weights = np.ones(len(grouped_price_more_clickouts))/len(grouped_price_more_clickouts))"
   ]
  },
  {
   "cell_type": "code",
   "execution_count": 15,
   "metadata": {},
   "outputs": [
    {
     "data": {
      "text/plain": [
       "array([[<matplotlib.axes._subplots.AxesSubplot object at 0x7f216d725a90>]],\n",
       "      dtype=object)"
      ]
     },
     "execution_count": 15,
     "metadata": {},
     "output_type": "execute_result"
    },
    {
     "data": {
      "image/png": "[encoded data removed]",
      "text/plain": [
       "<Figure size 432x288 with 1 Axes>"
      ]
     },
     "metadata": {
      "needs_background": "light"
     },
     "output_type": "display_data"
    }
   ],
   "source": [
    "grouped_price_more_clickouts.hist(cumulative = True, column = 'std price', bins = 100, range=[0, 50], weights = np.ones(len(grouped_price_more_clickouts))/len(grouped_price_more_clickouts))"
   ]
  },
  {
   "cell_type": "markdown",
   "metadata": {},
   "source": [
    "# Do we have less variance considering only the last clickout of a user instead of the mean of all the previous clickouts?"
   ]
  },
  {
   "cell_type": "code",
   "execution_count": 16,
   "metadata": {},
   "outputs": [],
   "source": [
    "def func2(x):\n",
    "    if len(x) > 1:\n",
    "        iters = 1\n",
    "        last_row = None\n",
    "        var = []\n",
    "        for idx, row in x.iterrows():\n",
    "            if iters == 1:\n",
    "                last_row = row\n",
    "            else:\n",
    "                impression = list(map(int, row['impressions'].split('|')))\n",
    "                prices = list(map(int, row['prices'].split('|')))\n",
    "                clickout_item = int(row['reference'])\n",
    "                last_impression = list(map(int, last_row['impressions'].split('|')))\n",
    "                last_prices = list(map(int, last_row['prices'].split('|')))\n",
    "                last_clickout_item = int(last_row['reference'])\n",
    "                if clickout_item in impression and last_clickout_item in last_impression:\n",
    "                    price = prices[impression.index(clickout_item)]\n",
    "                    last_price = last_prices[last_impression.index(last_clickout_item)]\n",
    "                    var.append(abs(price - last_price))\n",
    "                last_row = row\n",
    "            iters += 1\n",
    "        d = {'diff wrt preceding clickout price': var}\n",
    "        return pd.DataFrame(data=d)"
   ]
  },
  {
   "cell_type": "code",
   "execution_count": 17,
   "metadata": {},
   "outputs": [],
   "source": [
    "grouped_std_price_preceding_clickouts = df.groupby(['user_id']).apply(func2)"
   ]
  },
  {
   "cell_type": "code",
   "execution_count": 18,
   "metadata": {},
   "outputs": [
    {
     "data": {
      "text/plain": [
       "array([[<matplotlib.axes._subplots.AxesSubplot object at 0x7f216d408898>]],\n",
       "      dtype=object)"
      ]
     },
     "execution_count": 18,
     "metadata": {},
     "output_type": "execute_result"
    },
    {
     "data": {
      "image/png": "[encoded data removed]",
      "text/plain": [
       "<Figure size 432x288 with 1 Axes>"
      ]
     },
     "metadata": {
      "needs_background": "light"
     },
     "output_type": "display_data"
    }
   ],
   "source": [
    "grouped_std_price_preceding_clickouts.hist(column = 'diff wrt preceding clickout price', bins = 50, range=[0, 200], weights = np.ones(len(grouped_std_price_preceding_clickouts))/len(grouped_std_price_preceding_clickouts))"
   ]
  },
  {
   "cell_type": "code",
   "execution_count": 19,
   "metadata": {},
   "outputs": [
    {
     "data": {
      "text/plain": [
       "array([[<matplotlib.axes._subplots.AxesSubplot object at 0x7f216cfb09b0>]],\n",
       "      dtype=object)"
      ]
     },
     "execution_count": 19,
     "metadata": {},
     "output_type": "execute_result"
    },
    {
     "data": {
      "image/png": "[encoded data removed]",
      "text/plain": [
       "<Figure size 432x288 with 1 Axes>"
      ]
     },
     "metadata": {
      "needs_background": "light"
     },
     "output_type": "display_data"
    }
   ],
   "source": [
    "grouped_std_price_preceding_clickouts.hist(cumulative = True, column = 'diff wrt preceding clickout price', bins = 100, range=[0, 200], weights = np.ones(len(grouped_std_price_preceding_clickouts))/len(grouped_std_price_preceding_clickouts))"
   ]
  }
 ],
 "metadata": {
  "kernelspec": {
   "display_name": "Python 3",
   "language": "python",
   "name": "python3"
  },
  "language_info": {
   "codemirror_mode": {
    "name": "ipython",
    "version": 3
   },
   "file_extension": ".py",
   "mimetype": "text/x-python",
   "name": "python",
   "nbconvert_exporter": "python",
   "pygments_lexer": "ipython3",
   "version": "3.7.0"
  }
 },
 "nbformat": 4,
 "nbformat_minor": 2
}
