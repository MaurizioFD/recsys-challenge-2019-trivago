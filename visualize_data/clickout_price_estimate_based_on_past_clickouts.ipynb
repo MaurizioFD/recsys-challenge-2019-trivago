{
 "cells": [
  {
   "cell_type": "code",
   "execution_count": 4,
   "metadata": {},
   "outputs": [],
   "source": [
    "import sys\n",
    "import os\n",
    "\n",
    "os.chdir(\"../\")"
   ]
  },
  {
   "cell_type": "code",
   "execution_count": 5,
   "metadata": {},
   "outputs": [],
   "source": [
    "import pandas as pd\n",
    "import matplotlib.pyplot as plt\n",
    "import numpy as np\n",
    "import data\n",
    "from tqdm.auto import tqdm\n",
    "from matplotlib.ticker import PercentFormatter\n",
    "tqdm.pandas()"
   ]
  },
  {
   "cell_type": "markdown",
   "metadata": {},
   "source": [
    "# Is a user that once selects the $n^{th}$ accomodation in price likely to select again the $n^{th}$ in the future?"
   ]
  },
  {
   "cell_type": "code",
   "execution_count": 6,
   "metadata": {},
   "outputs": [],
   "source": [
    "mode = 'full'\n",
    "\n",
    "df = data.train_df(mode)\n",
    "df = df[df['action_type'] == 'clickout item']\n",
    "df = df[~df['reference'].isnull()]\n",
    "\n",
    "df_test = data.test_df(mode)\n",
    "df_test = df_test[df_test['action_type'] == 'clickout item']\n",
    "df_test = df_test[~df_test['reference'].isnull()]\n",
    "\n",
    "df = pd.concat([df, df_test], ignore_index=True)"
   ]
  },
  {
   "cell_type": "code",
   "execution_count": 6,
   "metadata": {},
   "outputs": [],
   "source": [
    "def func(x):\n",
    "    m = -1\n",
    "    mr = 0\n",
    "    var = 0\n",
    "    iters = 1\n",
    "    if len(x) > 1:\n",
    "        for idx, row in x.iterrows():\n",
    "            impression = list(map(int, row['impressions'].split('|')))\n",
    "            prices = list(map(int, row['prices'].split('|')))\n",
    "            clickout_item = int(row['reference'])\n",
    "            impression_prices = [[impression[i], prices[i]] for i in range(len(impression))]\n",
    "            impression_prices.sort(key=lambda e: int(e[1]))\n",
    "            impression = [e[0] for e in impression_prices]\n",
    "            if clickout_item in impression:\n",
    "                i = impression.index(clickout_item)\n",
    "                if m == -1:\n",
    "                    m = i\n",
    "                else:\n",
    "                    m += i\n",
    "                    mr = m/iters\n",
    "                    var += abs(mr - i)\n",
    "            iters += 1\n",
    "        var = var/len(x)\n",
    "        m = m/len(x)\n",
    "        d = {'mean cheap': [m], 'std cheap': [var], 'num of clickouts': [len(x)]}\n",
    "        return pd.DataFrame(data=d)"
   ]
  },
  {
   "cell_type": "code",
   "execution_count": 7,
   "metadata": {},
   "outputs": [],
   "source": [
    "grouped = df.groupby(['user_id']).apply(func)\n",
    "grouped_more_clickouts = grouped[grouped['num of clickouts'] > 1]"
   ]
  },
  {
   "cell_type": "markdown",
   "metadata": {},
   "source": [
    "### A user that picks on a previous clickout the $n^{th}$ cheapest accomodation is really likely to stick with it"
   ]
  },
  {
   "cell_type": "code",
   "execution_count": 8,
   "metadata": {},
   "outputs": [
    {
     "data": {
      "text/plain": [
       "1.8020275172577096"
      ]
     },
     "execution_count": 8,
     "metadata": {},
     "output_type": "execute_result"
    }
   ],
   "source": [
    "sum(grouped_more_clickouts['std cheap'].values)/len(grouped_more_clickouts)"
   ]
  },
  {
   "cell_type": "code",
   "execution_count": 9,
   "metadata": {
    "scrolled": true
   },
   "outputs": [
    {
     "data": {
      "text/plain": [
       "array([[<matplotlib.axes._subplots.AxesSubplot object at 0x7f2169e17748>]],\n",
       "      dtype=object)"
      ]
     },
     "execution_count": 9,
     "metadata": {},
     "output_type": "execute_result"
    },
    {
     "data": {
      "image/png": "[encoded data removed]",
      "text/plain": [
       "<Figure size 432x288 with 1 Axes>"
      ]
     },
     "metadata": {
      "needs_background": "light"
     },
     "output_type": "display_data"
    }
   ],
   "source": [
    "grouped_more_clickouts.hist(column = 'std cheap', bins = 40, weights = np.ones(len(grouped_more_clickouts))/len(grouped_more_clickouts))"
   ]
  },
  {
   "cell_type": "code",
   "execution_count": 10,
   "metadata": {},
   "outputs": [
    {
     "data": {
      "text/plain": [
       "array([[<matplotlib.axes._subplots.AxesSubplot object at 0x7f215eae3d68>]],\n",
       "      dtype=object)"
      ]
     },
     "execution_count": 10,
     "metadata": {},
     "output_type": "execute_result"
    },
    {
     "data": {
      "image/png": "[encoded data removed]",
      "text/plain": [
       "<Figure size 432x288 with 1 Axes>"
      ]
     },
     "metadata": {
      "needs_background": "light"
     },
     "output_type": "display_data"
    }
   ],
   "source": [
    "grouped_more_clickouts.hist(cumulative = True, column = 'std cheap', bins = 100, weights = np.ones(len(grouped_more_clickouts))/len(grouped_more_clickouts))"
   ]
  },
  {
   "cell_type": "markdown",
   "metadata": {},
   "source": [
    "# Does it make more sense to look to the std deviation of the real prices instead of looking to the std deviation of the price-wise position?"
   ]
  },
  {
   "cell_type": "code",
   "execution_count": 7,
   "metadata": {},
   "outputs": [],
   "source": [
    "def func1(x):\n",
    "    m = -1\n",
    "    mr = 0\n",
    "    mr_list = []\n",
    "    var = 0\n",
    "    var_list = []\n",
    "    iters = 1\n",
    "    if len(x) > 1:\n",
    "        for idx, row in x.iterrows():\n",
    "            impression = list(map(int, row['impressions'].split('|')))\n",
    "            prices = list(map(int, row['prices'].split('|')))\n",
    "            clickout_item = int(row['reference'])\n",
    "            if clickout_item in impression:\n",
    "                i = prices[impression.index(clickout_item)]\n",
    "                if m == -1:\n",
    "                    m = i\n",
    "                    mr = i\n",
    "                else:\n",
    "                    m += i\n",
    "                    var += abs(mr - i)\n",
    "                    var_list.append(abs(mr - i))\n",
    "                    mr = m/iters\n",
    "                    mr_list.append(mr)\n",
    "            iters += 1\n",
    "        var = var/(iters-2)\n",
    "        m = m/(iters-1)\n",
    "        d = {'mean price': [mr], 'std price': [var], 'num of clickouts': [len(x)]}\n",
    "        return pd.DataFrame(data=d)"
   ]
  },
  {
   "cell_type": "code",
   "execution_count": 8,
   "metadata": {
    "scrolled": true
   },
   "outputs": [
    {
     "data": {
      "application/vnd.jupyter.widget-view+json": {
       "model_id": "2c9c871498b14941b47aadcf7fdcd3a4",
       "version_major": 2,
       "version_minor": 0
      },
      "text/plain": [
       "HBox(children=(IntProgress(value=0, max=807757), HTML(value='')))"
      ]
     },
     "metadata": {},
     "output_type": "display_data"
    },
    {
     "name": "stdout",
     "output_type": "stream",
     "text": [
      "\n"
     ]
    }
   ],
   "source": [
    "grouped_price_more_clickouts = df.groupby(['user_id']).progress_apply(func1)"
   ]
  },
  {
   "cell_type": "code",
   "execution_count": 9,
   "metadata": {},
   "outputs": [],
   "source": [
    "del df"
   ]
  },
  {
   "cell_type": "code",
   "execution_count": 10,
   "metadata": {
    "scrolled": true
   },
   "outputs": [
    {
     "data": {
      "text/html": [
       "<div>\n",
       "<style scoped>\n",
       "    .dataframe tbody tr th:only-of-type {\n",
       "        vertical-align: middle;\n",
       "    }\n",
       "\n",
       "    .dataframe tbody tr th {\n",
       "        vertical-align: top;\n",
       "    }\n",
       "\n",
       "    .dataframe thead th {\n",
       "        text-align: right;\n",
       "    }\n",
       "</style>\n",
       "<table border=\"1\" class=\"dataframe\">\n",
       "  <thead>\n",
       "    <tr style=\"text-align: right;\">\n",
       "      <th></th>\n",
       "      <th></th>\n",
       "      <th>mean price</th>\n",
       "      <th>std price</th>\n",
       "      <th>num of clickouts</th>\n",
       "    </tr>\n",
       "    <tr>\n",
       "      <th>user_id</th>\n",
       "      <th></th>\n",
       "      <th></th>\n",
       "      <th></th>\n",
       "      <th></th>\n",
       "    </tr>\n",
       "  </thead>\n",
       "  <tbody>\n",
       "    <tr>\n",
       "      <th>0001VQMGUI65</th>\n",
       "      <th>0</th>\n",
       "      <td>42.000000</td>\n",
       "      <td>5.145833</td>\n",
       "      <td>5</td>\n",
       "    </tr>\n",
       "    <tr>\n",
       "      <th>0004IOZI7CKF</th>\n",
       "      <th>0</th>\n",
       "      <td>99.333333</td>\n",
       "      <td>25.750000</td>\n",
       "      <td>3</td>\n",
       "    </tr>\n",
       "    <tr>\n",
       "      <th>0008BO33KUQ0</th>\n",
       "      <th>0</th>\n",
       "      <td>85.142857</td>\n",
       "      <td>34.861111</td>\n",
       "      <td>7</td>\n",
       "    </tr>\n",
       "    <tr>\n",
       "      <th>000EKQEFMW6S</th>\n",
       "      <th>0</th>\n",
       "      <td>43.000000</td>\n",
       "      <td>2.000000</td>\n",
       "      <td>2</td>\n",
       "    </tr>\n",
       "    <tr>\n",
       "      <th>000IRHJS2DL9</th>\n",
       "      <th>0</th>\n",
       "      <td>79.000000</td>\n",
       "      <td>7.750000</td>\n",
       "      <td>3</td>\n",
       "    </tr>\n",
       "    <tr>\n",
       "      <th>000LC1EWG7ZP</th>\n",
       "      <th>0</th>\n",
       "      <td>22.714286</td>\n",
       "      <td>3.197222</td>\n",
       "      <td>7</td>\n",
       "    </tr>\n",
       "    <tr>\n",
       "      <th>0010PD3FH7SV</th>\n",
       "      <th>0</th>\n",
       "      <td>38.000000</td>\n",
       "      <td>52.000000</td>\n",
       "      <td>2</td>\n",
       "    </tr>\n",
       "    <tr>\n",
       "      <th>0011WEV5DABC</th>\n",
       "      <th>0</th>\n",
       "      <td>74.500000</td>\n",
       "      <td>11.444444</td>\n",
       "      <td>4</td>\n",
       "    </tr>\n",
       "    <tr>\n",
       "      <th>0013L641G5P2</th>\n",
       "      <th>0</th>\n",
       "      <td>72.800000</td>\n",
       "      <td>51.875000</td>\n",
       "      <td>5</td>\n",
       "    </tr>\n",
       "    <tr>\n",
       "      <th>0015CRBC6OH9</th>\n",
       "      <th>0</th>\n",
       "      <td>90.000000</td>\n",
       "      <td>3.000000</td>\n",
       "      <td>3</td>\n",
       "    </tr>\n",
       "    <tr>\n",
       "      <th>0017FIR55K7R</th>\n",
       "      <th>0</th>\n",
       "      <td>25.000000</td>\n",
       "      <td>0.000000</td>\n",
       "      <td>4</td>\n",
       "    </tr>\n",
       "    <tr>\n",
       "      <th>0018EAWF0OIK</th>\n",
       "      <th>0</th>\n",
       "      <td>89.000000</td>\n",
       "      <td>0.000000</td>\n",
       "      <td>2</td>\n",
       "    </tr>\n",
       "    <tr>\n",
       "      <th>001BJ5U1AZHW</th>\n",
       "      <th>0</th>\n",
       "      <td>23.000000</td>\n",
       "      <td>0.000000</td>\n",
       "      <td>2</td>\n",
       "    </tr>\n",
       "    <tr>\n",
       "      <th>001IC3WK4AOO</th>\n",
       "      <th>0</th>\n",
       "      <td>80.500000</td>\n",
       "      <td>1.000000</td>\n",
       "      <td>2</td>\n",
       "    </tr>\n",
       "    <tr>\n",
       "      <th>001OCXQ9PXET</th>\n",
       "      <th>0</th>\n",
       "      <td>238.500000</td>\n",
       "      <td>343.000000</td>\n",
       "      <td>2</td>\n",
       "    </tr>\n",
       "    <tr>\n",
       "      <th>001Q2N2IXI18</th>\n",
       "      <th>0</th>\n",
       "      <td>104.000000</td>\n",
       "      <td>93.222222</td>\n",
       "      <td>4</td>\n",
       "    </tr>\n",
       "    <tr>\n",
       "      <th>001TKZND4DXR</th>\n",
       "      <th>0</th>\n",
       "      <td>27.333333</td>\n",
       "      <td>5.000000</td>\n",
       "      <td>3</td>\n",
       "    </tr>\n",
       "    <tr>\n",
       "      <th>001UXWLZZDQG</th>\n",
       "      <th>0</th>\n",
       "      <td>26.000000</td>\n",
       "      <td>4.500000</td>\n",
       "      <td>3</td>\n",
       "    </tr>\n",
       "    <tr>\n",
       "      <th>001WJ8QTM41X</th>\n",
       "      <th>0</th>\n",
       "      <td>20.000000</td>\n",
       "      <td>0.000000</td>\n",
       "      <td>2</td>\n",
       "    </tr>\n",
       "    <tr>\n",
       "      <th>001WP37I7I1T</th>\n",
       "      <th>0</th>\n",
       "      <td>64.000000</td>\n",
       "      <td>0.000000</td>\n",
       "      <td>2</td>\n",
       "    </tr>\n",
       "    <tr>\n",
       "      <th>001XGI2NI73R</th>\n",
       "      <th>0</th>\n",
       "      <td>157.500000</td>\n",
       "      <td>64.166667</td>\n",
       "      <td>4</td>\n",
       "    </tr>\n",
       "    <tr>\n",
       "      <th>0022L3757L7J</th>\n",
       "      <th>0</th>\n",
       "      <td>342.285714</td>\n",
       "      <td>157.313889</td>\n",
       "      <td>7</td>\n",
       "    </tr>\n",
       "    <tr>\n",
       "      <th>0023FC807SR8</th>\n",
       "      <th>0</th>\n",
       "      <td>82.000000</td>\n",
       "      <td>24.833333</td>\n",
       "      <td>4</td>\n",
       "    </tr>\n",
       "    <tr>\n",
       "      <th>0024WQMRS5XT</th>\n",
       "      <th>0</th>\n",
       "      <td>119.500000</td>\n",
       "      <td>41.000000</td>\n",
       "      <td>2</td>\n",
       "    </tr>\n",
       "    <tr>\n",
       "      <th>0025AKR8Y9XQ</th>\n",
       "      <th>0</th>\n",
       "      <td>166.000000</td>\n",
       "      <td>0.000000</td>\n",
       "      <td>2</td>\n",
       "    </tr>\n",
       "    <tr>\n",
       "      <th>0025B8BU0NYP</th>\n",
       "      <th>0</th>\n",
       "      <td>208.500000</td>\n",
       "      <td>131.000000</td>\n",
       "      <td>2</td>\n",
       "    </tr>\n",
       "    <tr>\n",
       "      <th>0029BRXGBS69</th>\n",
       "      <th>0</th>\n",
       "      <td>46.521739</td>\n",
       "      <td>13.508081</td>\n",
       "      <td>23</td>\n",
       "    </tr>\n",
       "    <tr>\n",
       "      <th>002A7PDRJU8N</th>\n",
       "      <th>0</th>\n",
       "      <td>78.000000</td>\n",
       "      <td>0.000000</td>\n",
       "      <td>2</td>\n",
       "    </tr>\n",
       "    <tr>\n",
       "      <th>002B0QBQXZ62</th>\n",
       "      <th>0</th>\n",
       "      <td>24.000000</td>\n",
       "      <td>1.500000</td>\n",
       "      <td>3</td>\n",
       "    </tr>\n",
       "    <tr>\n",
       "      <th>002CQHIQ78E8</th>\n",
       "      <th>0</th>\n",
       "      <td>28.000000</td>\n",
       "      <td>1.500000</td>\n",
       "      <td>3</td>\n",
       "    </tr>\n",
       "    <tr>\n",
       "      <th>...</th>\n",
       "      <th>...</th>\n",
       "      <td>...</td>\n",
       "      <td>...</td>\n",
       "      <td>...</td>\n",
       "    </tr>\n",
       "    <tr>\n",
       "      <th>ZZW80T2E95JL</th>\n",
       "      <th>0</th>\n",
       "      <td>40.000000</td>\n",
       "      <td>28.000000</td>\n",
       "      <td>2</td>\n",
       "    </tr>\n",
       "    <tr>\n",
       "      <th>ZZW8VOP35SN0</th>\n",
       "      <th>0</th>\n",
       "      <td>138.000000</td>\n",
       "      <td>0.000000</td>\n",
       "      <td>2</td>\n",
       "    </tr>\n",
       "    <tr>\n",
       "      <th>ZZWBXPVI1AA8</th>\n",
       "      <th>0</th>\n",
       "      <td>66.500000</td>\n",
       "      <td>3.000000</td>\n",
       "      <td>2</td>\n",
       "    </tr>\n",
       "    <tr>\n",
       "      <th>ZZWC8ATUL677</th>\n",
       "      <th>0</th>\n",
       "      <td>61.000000</td>\n",
       "      <td>0.000000</td>\n",
       "      <td>2</td>\n",
       "    </tr>\n",
       "    <tr>\n",
       "      <th>ZZWHEYWBUNJB</th>\n",
       "      <th>0</th>\n",
       "      <td>128.000000</td>\n",
       "      <td>0.000000</td>\n",
       "      <td>3</td>\n",
       "    </tr>\n",
       "    <tr>\n",
       "      <th>ZZWT75PS0J6R</th>\n",
       "      <th>0</th>\n",
       "      <td>30.600000</td>\n",
       "      <td>2.875000</td>\n",
       "      <td>5</td>\n",
       "    </tr>\n",
       "    <tr>\n",
       "      <th>ZZWZBXI100ZW</th>\n",
       "      <th>0</th>\n",
       "      <td>52.533333</td>\n",
       "      <td>15.790808</td>\n",
       "      <td>15</td>\n",
       "    </tr>\n",
       "    <tr>\n",
       "      <th>ZZX3QP2D67V3</th>\n",
       "      <th>0</th>\n",
       "      <td>67.333333</td>\n",
       "      <td>57.000000</td>\n",
       "      <td>3</td>\n",
       "    </tr>\n",
       "    <tr>\n",
       "      <th>ZZXHTPS0N1LS</th>\n",
       "      <th>0</th>\n",
       "      <td>99.500000</td>\n",
       "      <td>43.000000</td>\n",
       "      <td>2</td>\n",
       "    </tr>\n",
       "    <tr>\n",
       "      <th>ZZXTM747G31D</th>\n",
       "      <th>0</th>\n",
       "      <td>96.000000</td>\n",
       "      <td>14.000000</td>\n",
       "      <td>2</td>\n",
       "    </tr>\n",
       "    <tr>\n",
       "      <th>ZZXYYTDRRZF1</th>\n",
       "      <th>0</th>\n",
       "      <td>44.750000</td>\n",
       "      <td>17.555556</td>\n",
       "      <td>4</td>\n",
       "    </tr>\n",
       "    <tr>\n",
       "      <th>ZZY1KJ61DBKF</th>\n",
       "      <th>0</th>\n",
       "      <td>86.500000</td>\n",
       "      <td>30.976667</td>\n",
       "      <td>6</td>\n",
       "    </tr>\n",
       "    <tr>\n",
       "      <th>ZZY79DVEDF47</th>\n",
       "      <th>0</th>\n",
       "      <td>124.625000</td>\n",
       "      <td>46.829592</td>\n",
       "      <td>8</td>\n",
       "    </tr>\n",
       "    <tr>\n",
       "      <th>ZZYHTK668S4B</th>\n",
       "      <th>0</th>\n",
       "      <td>149.000000</td>\n",
       "      <td>37.250000</td>\n",
       "      <td>3</td>\n",
       "    </tr>\n",
       "    <tr>\n",
       "      <th>ZZYLIY1344B2</th>\n",
       "      <th>0</th>\n",
       "      <td>53.000000</td>\n",
       "      <td>12.000000</td>\n",
       "      <td>3</td>\n",
       "    </tr>\n",
       "    <tr>\n",
       "      <th>ZZZ0SPKF1D9B</th>\n",
       "      <th>0</th>\n",
       "      <td>52.500000</td>\n",
       "      <td>9.000000</td>\n",
       "      <td>2</td>\n",
       "    </tr>\n",
       "    <tr>\n",
       "      <th>ZZZ0V8454NZC</th>\n",
       "      <th>0</th>\n",
       "      <td>72.500000</td>\n",
       "      <td>0.666667</td>\n",
       "      <td>4</td>\n",
       "    </tr>\n",
       "    <tr>\n",
       "      <th>ZZZ1V93748SJ</th>\n",
       "      <th>0</th>\n",
       "      <td>38.000000</td>\n",
       "      <td>16.000000</td>\n",
       "      <td>2</td>\n",
       "    </tr>\n",
       "    <tr>\n",
       "      <th>ZZZ4MFAMBHZ3</th>\n",
       "      <th>0</th>\n",
       "      <td>98.600000</td>\n",
       "      <td>15.375000</td>\n",
       "      <td>5</td>\n",
       "    </tr>\n",
       "    <tr>\n",
       "      <th>ZZZ510VC67QP</th>\n",
       "      <th>0</th>\n",
       "      <td>139.000000</td>\n",
       "      <td>0.000000</td>\n",
       "      <td>3</td>\n",
       "    </tr>\n",
       "    <tr>\n",
       "      <th>ZZZ5B29UZ5R8</th>\n",
       "      <th>0</th>\n",
       "      <td>89.000000</td>\n",
       "      <td>32.750000</td>\n",
       "      <td>3</td>\n",
       "    </tr>\n",
       "    <tr>\n",
       "      <th>ZZZ5DZLM41SL</th>\n",
       "      <th>0</th>\n",
       "      <td>72.500000</td>\n",
       "      <td>21.000000</td>\n",
       "      <td>2</td>\n",
       "    </tr>\n",
       "    <tr>\n",
       "      <th>ZZZ65AH0ZA6L</th>\n",
       "      <th>0</th>\n",
       "      <td>66.666667</td>\n",
       "      <td>23.500000</td>\n",
       "      <td>3</td>\n",
       "    </tr>\n",
       "    <tr>\n",
       "      <th>ZZZ7VDJC9303</th>\n",
       "      <th>0</th>\n",
       "      <td>85.666667</td>\n",
       "      <td>24.000000</td>\n",
       "      <td>3</td>\n",
       "    </tr>\n",
       "    <tr>\n",
       "      <th>ZZZJVQ660H0J</th>\n",
       "      <th>0</th>\n",
       "      <td>79.500000</td>\n",
       "      <td>21.000000</td>\n",
       "      <td>2</td>\n",
       "    </tr>\n",
       "    <tr>\n",
       "      <th>ZZZMUHLO5WBG</th>\n",
       "      <th>0</th>\n",
       "      <td>66.000000</td>\n",
       "      <td>76.000000</td>\n",
       "      <td>2</td>\n",
       "    </tr>\n",
       "    <tr>\n",
       "      <th>ZZZOZKON2HVJ</th>\n",
       "      <th>0</th>\n",
       "      <td>69.500000</td>\n",
       "      <td>55.000000</td>\n",
       "      <td>2</td>\n",
       "    </tr>\n",
       "    <tr>\n",
       "      <th>ZZZPQ336U50Y</th>\n",
       "      <th>0</th>\n",
       "      <td>155.333333</td>\n",
       "      <td>78.000000</td>\n",
       "      <td>3</td>\n",
       "    </tr>\n",
       "    <tr>\n",
       "      <th>ZZZRFN2DZ2BV</th>\n",
       "      <th>0</th>\n",
       "      <td>85.000000</td>\n",
       "      <td>10.388889</td>\n",
       "      <td>7</td>\n",
       "    </tr>\n",
       "    <tr>\n",
       "      <th>ZZZSKOPW9P49</th>\n",
       "      <th>0</th>\n",
       "      <td>143.600000</td>\n",
       "      <td>32.125000</td>\n",
       "      <td>5</td>\n",
       "    </tr>\n",
       "  </tbody>\n",
       "</table>\n",
       "<p>363157 rows × 3 columns</p>\n",
       "</div>"
      ],
      "text/plain": [
       "                mean price   std price  num of clickouts\n",
       "user_id                                                 \n",
       "0001VQMGUI65 0   42.000000    5.145833                 5\n",
       "0004IOZI7CKF 0   99.333333   25.750000                 3\n",
       "0008BO33KUQ0 0   85.142857   34.861111                 7\n",
       "000EKQEFMW6S 0   43.000000    2.000000                 2\n",
       "000IRHJS2DL9 0   79.000000    7.750000                 3\n",
       "000LC1EWG7ZP 0   22.714286    3.197222                 7\n",
       "0010PD3FH7SV 0   38.000000   52.000000                 2\n",
       "0011WEV5DABC 0   74.500000   11.444444                 4\n",
       "0013L641G5P2 0   72.800000   51.875000                 5\n",
       "0015CRBC6OH9 0   90.000000    3.000000                 3\n",
       "0017FIR55K7R 0   25.000000    0.000000                 4\n",
       "0018EAWF0OIK 0   89.000000    0.000000                 2\n",
       "001BJ5U1AZHW 0   23.000000    0.000000                 2\n",
       "001IC3WK4AOO 0   80.500000    1.000000                 2\n",
       "001OCXQ9PXET 0  238.500000  343.000000                 2\n",
       "001Q2N2IXI18 0  104.000000   93.222222                 4\n",
       "001TKZND4DXR 0   27.333333    5.000000                 3\n",
       "001UXWLZZDQG 0   26.000000    4.500000                 3\n",
       "001WJ8QTM41X 0   20.000000    0.000000                 2\n",
       "001WP37I7I1T 0   64.000000    0.000000                 2\n",
       "001XGI2NI73R 0  157.500000   64.166667                 4\n",
       "0022L3757L7J 0  342.285714  157.313889                 7\n",
       "0023FC807SR8 0   82.000000   24.833333                 4\n",
       "0024WQMRS5XT 0  119.500000   41.000000                 2\n",
       "0025AKR8Y9XQ 0  166.000000    0.000000                 2\n",
       "0025B8BU0NYP 0  208.500000  131.000000                 2\n",
       "0029BRXGBS69 0   46.521739   13.508081                23\n",
       "002A7PDRJU8N 0   78.000000    0.000000                 2\n",
       "002B0QBQXZ62 0   24.000000    1.500000                 3\n",
       "002CQHIQ78E8 0   28.000000    1.500000                 3\n",
       "...                    ...         ...               ...\n",
       "ZZW80T2E95JL 0   40.000000   28.000000                 2\n",
       "ZZW8VOP35SN0 0  138.000000    0.000000                 2\n",
       "ZZWBXPVI1AA8 0   66.500000    3.000000                 2\n",
       "ZZWC8ATUL677 0   61.000000    0.000000                 2\n",
       "ZZWHEYWBUNJB 0  128.000000    0.000000                 3\n",
       "ZZWT75PS0J6R 0   30.600000    2.875000                 5\n",
       "ZZWZBXI100ZW 0   52.533333   15.790808                15\n",
       "ZZX3QP2D67V3 0   67.333333   57.000000                 3\n",
       "ZZXHTPS0N1LS 0   99.500000   43.000000                 2\n",
       "ZZXTM747G31D 0   96.000000   14.000000                 2\n",
       "ZZXYYTDRRZF1 0   44.750000   17.555556                 4\n",
       "ZZY1KJ61DBKF 0   86.500000   30.976667                 6\n",
       "ZZY79DVEDF47 0  124.625000   46.829592                 8\n",
       "ZZYHTK668S4B 0  149.000000   37.250000                 3\n",
       "ZZYLIY1344B2 0   53.000000   12.000000                 3\n",
       "ZZZ0SPKF1D9B 0   52.500000    9.000000                 2\n",
       "ZZZ0V8454NZC 0   72.500000    0.666667                 4\n",
       "ZZZ1V93748SJ 0   38.000000   16.000000                 2\n",
       "ZZZ4MFAMBHZ3 0   98.600000   15.375000                 5\n",
       "ZZZ510VC67QP 0  139.000000    0.000000                 3\n",
       "ZZZ5B29UZ5R8 0   89.000000   32.750000                 3\n",
       "ZZZ5DZLM41SL 0   72.500000   21.000000                 2\n",
       "ZZZ65AH0ZA6L 0   66.666667   23.500000                 3\n",
       "ZZZ7VDJC9303 0   85.666667   24.000000                 3\n",
       "ZZZJVQ660H0J 0   79.500000   21.000000                 2\n",
       "ZZZMUHLO5WBG 0   66.000000   76.000000                 2\n",
       "ZZZOZKON2HVJ 0   69.500000   55.000000                 2\n",
       "ZZZPQ336U50Y 0  155.333333   78.000000                 3\n",
       "ZZZRFN2DZ2BV 0   85.000000   10.388889                 7\n",
       "ZZZSKOPW9P49 0  143.600000   32.125000                 5\n",
       "\n",
       "[363157 rows x 3 columns]"
      ]
     },
     "execution_count": 10,
     "metadata": {},
     "output_type": "execute_result"
    }
   ],
   "source": [
    "grouped_price_more_clickouts"
   ]
  },
  {
   "cell_type": "code",
   "execution_count": 11,
   "metadata": {},
   "outputs": [
    {
     "data": {
      "text/plain": [
       "37.745602091029504"
      ]
     },
     "execution_count": 11,
     "metadata": {},
     "output_type": "execute_result"
    }
   ],
   "source": [
    "sum(grouped_price_more_clickouts['std price'].values)/len(grouped_price_more_clickouts)"
   ]
  },
  {
   "cell_type": "code",
   "execution_count": 12,
   "metadata": {},
   "outputs": [
    {
     "data": {
      "text/plain": [
       "array([[<matplotlib.axes._subplots.AxesSubplot object at 0x7f91dd3984e0>]],\n",
       "      dtype=object)"
      ]
     },
     "execution_count": 12,
     "metadata": {},
     "output_type": "execute_result"
    },
    {
     "data": {
      "image/png": "[encoded data removed]",
      "text/plain": [
       "<Figure size 432x288 with 1 Axes>"
      ]
     },
     "metadata": {
      "needs_background": "light"
     },
     "output_type": "display_data"
    }
   ],
   "source": [
    "grouped_price_more_clickouts.hist(column = 'std price', bins = 100, range=[0, 100], weights = np.ones(len(grouped_price_more_clickouts))/len(grouped_price_more_clickouts))"
   ]
  },
  {
   "cell_type": "code",
   "execution_count": 13,
   "metadata": {},
   "outputs": [
    {
     "data": {
      "text/plain": [
       "array([[<matplotlib.axes._subplots.AxesSubplot object at 0x7f91b080c7b8>]],\n",
       "      dtype=object)"
      ]
     },
     "execution_count": 13,
     "metadata": {},
     "output_type": "execute_result"
    },
    {
     "data": {
      "image/png": "[encoded data removed]",
      "text/plain": [
       "<Figure size 432x288 with 1 Axes>"
      ]
     },
     "metadata": {
      "needs_background": "light"
     },
     "output_type": "display_data"
    }
   ],
   "source": [
    "grouped_price_more_clickouts.hist(cumulative = True, column = 'std price', bins = 100, range=[0, 50], weights = np.ones(len(grouped_price_more_clickouts))/len(grouped_price_more_clickouts))"
   ]
  },
  {
   "cell_type": "markdown",
   "metadata": {},
   "source": [
    "# Do we have less variance considering only the last clickout of a user instead of the mean of all the previous clickouts?"
   ]
  },
  {
   "cell_type": "code",
   "execution_count": 16,
   "metadata": {},
   "outputs": [],
   "source": [
    "def func2(x):\n",
    "    if len(x) > 1:\n",
    "        iters = 1\n",
    "        last_row = None\n",
    "        var = []\n",
    "        for idx, row in x.iterrows():\n",
    "            if iters == 1:\n",
    "                last_row = row\n",
    "            else:\n",
    "                impression = list(map(int, row['impressions'].split('|')))\n",
    "                prices = list(map(int, row['prices'].split('|')))\n",
    "                clickout_item = int(row['reference'])\n",
    "                last_impression = list(map(int, last_row['impressions'].split('|')))\n",
    "                last_prices = list(map(int, last_row['prices'].split('|')))\n",
    "                last_clickout_item = int(last_row['reference'])\n",
    "                if clickout_item in impression and last_clickout_item in last_impression:\n",
    "                    price = prices[impression.index(clickout_item)]\n",
    "                    last_price = last_prices[last_impression.index(last_clickout_item)]\n",
    "                    var.append(abs(price - last_price))\n",
    "                last_row = row\n",
    "            iters += 1\n",
    "        d = {'diff wrt preceding clickout price': var}\n",
    "        return pd.DataFrame(data=d)"
   ]
  },
  {
   "cell_type": "code",
   "execution_count": 17,
   "metadata": {},
   "outputs": [],
   "source": [
    "grouped_std_price_preceding_clickouts = df.groupby(['user_id']).apply(func2)"
   ]
  },
  {
   "cell_type": "code",
   "execution_count": 18,
   "metadata": {},
   "outputs": [
    {
     "data": {
      "text/plain": [
       "array([[<matplotlib.axes._subplots.AxesSubplot object at 0x7f216d408898>]],\n",
       "      dtype=object)"
      ]
     },
     "execution_count": 18,
     "metadata": {},
     "output_type": "execute_result"
    },
    {
     "data": {
      "image/png": "[encoded data removed]",
      "text/plain": [
       "<Figure size 432x288 with 1 Axes>"
      ]
     },
     "metadata": {
      "needs_background": "light"
     },
     "output_type": "display_data"
    }
   ],
   "source": [
    "grouped_std_price_preceding_clickouts.hist(column = 'diff wrt preceding clickout price', bins = 50, range=[0, 200], weights = np.ones(len(grouped_std_price_preceding_clickouts))/len(grouped_std_price_preceding_clickouts))"
   ]
  },
  {
   "cell_type": "code",
   "execution_count": 19,
   "metadata": {},
   "outputs": [
    {
     "data": {
      "text/plain": [
       "array([[<matplotlib.axes._subplots.AxesSubplot object at 0x7f216cfb09b0>]],\n",
       "      dtype=object)"
      ]
     },
     "execution_count": 19,
     "metadata": {},
     "output_type": "execute_result"
    },
    {
     "data": {
      "image/png": "[encoded data removed]",
      "text/plain": [
       "<Figure size 432x288 with 1 Axes>"
      ]
     },
     "metadata": {
      "needs_background": "light"
     },
     "output_type": "display_data"
    }
   ],
   "source": [
    "grouped_std_price_preceding_clickouts.hist(cumulative = True, column = 'diff wrt preceding clickout price', bins = 100, range=[0, 200], weights = np.ones(len(grouped_std_price_preceding_clickouts))/len(grouped_std_price_preceding_clickouts))"
   ]
  }
 ],
 "metadata": {
  "kernelspec": {
   "display_name": "Python 3",
   "language": "python",
   "name": "python3"
  },
  "language_info": {
   "codemirror_mode": {
    "name": "ipython",
    "version": 3
   },
   "file_extension": ".py",
   "mimetype": "text/x-python",
   "name": "python",
   "nbconvert_exporter": "python",
   "pygments_lexer": "ipython3",
   "version": "3.7.0"
  }
 },
 "nbformat": 4,
 "nbformat_minor": 2
}
